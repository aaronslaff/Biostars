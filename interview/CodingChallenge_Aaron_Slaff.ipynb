{
 "cells": [
  {
   "cell_type": "code",
   "execution_count": 1,
   "metadata": {},
   "outputs": [
    {
     "data": {
      "text/html": [
       "<div>\n",
       "<style scoped>\n",
       "    .dataframe tbody tr th:only-of-type {\n",
       "        vertical-align: middle;\n",
       "    }\n",
       "\n",
       "    .dataframe tbody tr th {\n",
       "        vertical-align: top;\n",
       "    }\n",
       "\n",
       "    .dataframe thead th {\n",
       "        text-align: right;\n",
       "    }\n",
       "</style>\n",
       "<table border=\"1\" class=\"dataframe\">\n",
       "  <thead>\n",
       "    <tr style=\"text-align: right;\">\n",
       "      <th></th>\n",
       "      <th>source_barcode</th>\n",
       "      <th>source_well</th>\n",
       "      <th>volume</th>\n",
       "      <th>destination_barcode</th>\n",
       "      <th>destination_well</th>\n",
       "    </tr>\n",
       "  </thead>\n",
       "  <tbody>\n",
       "    <tr>\n",
       "      <th>0</th>\n",
       "      <td>abc0192481</td>\n",
       "      <td>A1</td>\n",
       "      <td>20</td>\n",
       "      <td>d2947120012</td>\n",
       "      <td>A1</td>\n",
       "    </tr>\n",
       "    <tr>\n",
       "      <th>1</th>\n",
       "      <td>abc0192481</td>\n",
       "      <td>B2</td>\n",
       "      <td>20</td>\n",
       "      <td>d2947120012</td>\n",
       "      <td>B1</td>\n",
       "    </tr>\n",
       "    <tr>\n",
       "      <th>2</th>\n",
       "      <td>abc0192481</td>\n",
       "      <td>C4</td>\n",
       "      <td>14</td>\n",
       "      <td>d2947120012</td>\n",
       "      <td>C1</td>\n",
       "    </tr>\n",
       "    <tr>\n",
       "      <th>3</th>\n",
       "      <td>abc0192481</td>\n",
       "      <td>B3</td>\n",
       "      <td>15</td>\n",
       "      <td>d2947120012</td>\n",
       "      <td>D1</td>\n",
       "    </tr>\n",
       "    <tr>\n",
       "      <th>4</th>\n",
       "      <td>abc0192481</td>\n",
       "      <td>D5</td>\n",
       "      <td>13</td>\n",
       "      <td>d2947120012</td>\n",
       "      <td>E1</td>\n",
       "    </tr>\n",
       "  </tbody>\n",
       "</table>\n",
       "</div>"
      ],
      "text/plain": [
       "  source_barcode source_well  volume destination_barcode destination_well\n",
       "0     abc0192481          A1      20         d2947120012               A1\n",
       "1     abc0192481          B2      20         d2947120012               B1\n",
       "2     abc0192481          C4      14         d2947120012               C1\n",
       "3     abc0192481          B3      15         d2947120012               D1\n",
       "4     abc0192481          D5      13         d2947120012               E1"
      ]
     },
     "execution_count": 1,
     "metadata": {},
     "output_type": "execute_result"
    }
   ],
   "source": [
    "# Problem 1\n",
    "import pandas as pd\n",
    "import numpy as np\n",
    "\n",
    "startList1 = pd.read_csv('/home/aaron/jupyter/Synthego/starting_worklist (1).csv')\n",
    "startList2 = pd.read_csv('/home/aaron/jupyter/Synthego/starting_worklist (1).csv')\n",
    "startList1.head()"
   ]
  },
  {
   "cell_type": "code",
   "execution_count": 2,
   "metadata": {},
   "outputs": [],
   "source": [
    "sourceBar = ['source_barcode', 'source_well']\n",
    "destBar = ['destination_barcode', 'destination_well']\n",
    "startList1.drop(columns = destBar, inplace=True)\n",
    "startList2.drop(columns = sourceBar, inplace=True)"
   ]
  },
  {
   "cell_type": "code",
   "execution_count": 3,
   "metadata": {},
   "outputs": [],
   "source": [
    "startList1 = startList1.set_index('source_barcode')"
   ]
  },
  {
   "cell_type": "code",
   "execution_count": 4,
   "metadata": {},
   "outputs": [],
   "source": [
    "startList1.to_csv('source_List.csv', sep='\\t')"
   ]
  },
  {
   "cell_type": "code",
   "execution_count": 5,
   "metadata": {},
   "outputs": [
    {
     "data": {
      "text/html": [
       "<div>\n",
       "<style scoped>\n",
       "    .dataframe tbody tr th:only-of-type {\n",
       "        vertical-align: middle;\n",
       "    }\n",
       "\n",
       "    .dataframe tbody tr th {\n",
       "        vertical-align: top;\n",
       "    }\n",
       "\n",
       "    .dataframe thead th {\n",
       "        text-align: right;\n",
       "    }\n",
       "</style>\n",
       "<table border=\"1\" class=\"dataframe\">\n",
       "  <thead>\n",
       "    <tr style=\"text-align: right;\">\n",
       "      <th></th>\n",
       "      <th>volume</th>\n",
       "      <th>destination_barcode</th>\n",
       "      <th>destination_well</th>\n",
       "    </tr>\n",
       "  </thead>\n",
       "  <tbody>\n",
       "    <tr>\n",
       "      <th>0</th>\n",
       "      <td>20</td>\n",
       "      <td>d2947120012</td>\n",
       "      <td>A1</td>\n",
       "    </tr>\n",
       "    <tr>\n",
       "      <th>1</th>\n",
       "      <td>20</td>\n",
       "      <td>d2947120012</td>\n",
       "      <td>B1</td>\n",
       "    </tr>\n",
       "    <tr>\n",
       "      <th>2</th>\n",
       "      <td>14</td>\n",
       "      <td>d2947120012</td>\n",
       "      <td>C1</td>\n",
       "    </tr>\n",
       "    <tr>\n",
       "      <th>3</th>\n",
       "      <td>15</td>\n",
       "      <td>d2947120012</td>\n",
       "      <td>D1</td>\n",
       "    </tr>\n",
       "    <tr>\n",
       "      <th>4</th>\n",
       "      <td>13</td>\n",
       "      <td>d2947120012</td>\n",
       "      <td>E1</td>\n",
       "    </tr>\n",
       "  </tbody>\n",
       "</table>\n",
       "</div>"
      ],
      "text/plain": [
       "   volume destination_barcode destination_well\n",
       "0      20         d2947120012               A1\n",
       "1      20         d2947120012               B1\n",
       "2      14         d2947120012               C1\n",
       "3      15         d2947120012               D1\n",
       "4      13         d2947120012               E1"
      ]
     },
     "execution_count": 5,
     "metadata": {},
     "output_type": "execute_result"
    }
   ],
   "source": [
    "startList2.head()"
   ]
  },
  {
   "cell_type": "code",
   "execution_count": 6,
   "metadata": {},
   "outputs": [],
   "source": [
    "startList2.to_csv('destination_List.csv', sep='\\t')"
   ]
  },
  {
   "cell_type": "code",
   "execution_count": 7,
   "metadata": {},
   "outputs": [],
   "source": [
    "# Problem 2\n",
    "def oligoFunc(stg):\n",
    "    oligoLen = sum(1 for x in stg if x.isupper())\n",
    "    oligoType = ''\n",
    "    if 'm' in stg and 'r' in stg:\n",
    "        oligoType = 'mod RNA'\n",
    "    elif 'd' in stg and 'r' in stg:\n",
    "        oligoType = 'chimera'\n",
    "    else:\n",
    "        oligoType = 'vanilla RNA'\n",
    "    return (oligoLen, oligoType)"
   ]
  },
  {
   "cell_type": "code",
   "execution_count": 8,
   "metadata": {},
   "outputs": [
    {
     "data": {
      "text/plain": [
       "(13, 'chimera')"
      ]
     },
     "execution_count": 8,
     "metadata": {},
     "output_type": "execute_result"
    }
   ],
   "source": [
    "oligoFunc(\"-Uro-Uro-Aro-Gdo-Cdo-Tdo-Ado-Aro-Cro-Gro-Gro-Uro-Ur\")"
   ]
  },
  {
   "cell_type": "code",
   "execution_count": 9,
   "metadata": {},
   "outputs": [
    {
     "data": {
      "text/plain": [
       "(13, 'mod RNA')"
      ]
     },
     "execution_count": 9,
     "metadata": {},
     "output_type": "execute_result"
    }
   ],
   "source": [
    "oligoFunc(\"Ums-Ums-Ams-Gro-Cro-Uro-Aro-Aro-Cro-Gro-Gms-Ums-Um\")"
   ]
  },
  {
   "cell_type": "code",
   "execution_count": 10,
   "metadata": {},
   "outputs": [
    {
     "data": {
      "text/plain": [
       "(13, 'vanilla RNA')"
      ]
     },
     "execution_count": 10,
     "metadata": {},
     "output_type": "execute_result"
    }
   ],
   "source": [
    "oligoFunc('-Uro-Uro-Aro-Gro-Cro-Uro-Aro-Aro-Cro-Gro-Gro-Uro-Ur')"
   ]
  },
  {
   "cell_type": "markdown",
   "metadata": {},
   "source": [
    "# Problem 3\n",
    "The provided CSV file ”synthesis data.csv” contains simulated data of 10 syntheses for several different custom sequences. This data is a smaller, simplified version of the data that the data science team at Synthego regularly collects. The data includes information about the quantity of material, overall quality, and time it took to process. These are the columns in the CSV:\n",
    "\n",
    "• four letter sequence: a string representing the sequence (as in problem 2)\n",
    "\n",
    "• synthesis id: an integer identifying a particular synthesis. Each synthesis has 16 sequences on it, and these sequences are synthesized and purified at the same time.\n",
    "\n",
    "• full length product: the measured amount of the full length sequence (as a percent)\n",
    "\n",
    "• n-1: the measured amount of a single base-sugar deletion (as a percent)\n",
    "\n",
    "• n+1: the measured amount of a single base-sugar addition (as a percent)\n",
    "\n",
    "• pure yield: the amount of material recovered after synthesis and purification (in nanomoles)\n",
    "\n",
    "• other impurity: a non-specific catchall for other impurities (a ratio from 0 to 1)\n",
    "\n",
    "• synthesis duration: the length of the synthesis in hours\n",
    "\n",
    "• postprocessing duration: the length of postprocessing (purification) in hours\n",
    "With this data, do the following in Python/pandas:\n",
    "\n",
    "a. Use the functions from part 1 to create new columns for product type and length (if you were unable to \n",
    "complete some parts of problem 1, just do what you can.)\n",
    "\n",
    "b. What seems to be affecting the pure yield? What other variables seem to be related to the pure yield (e.g., full length product, etc.)? Show any plots or descriptive statistics you use to explore this data and what strategies were needed to clean the data.\n",
    "\n",
    "c. Do you notice any other unusual or interesting trends in the data? What hypotheses do you have for explaining those trends? How would you test those hypotheses with the data available? There is no right answer here as long as you can support your statements."
   ]
  },
  {
   "cell_type": "code",
   "execution_count": 21,
   "metadata": {},
   "outputs": [],
   "source": [
    "import matplotlib.pyplot as plt\n",
    "syn = pd.read_csv('/home/aaron/jupyter/Synthego/synthesis_data (2).csv')"
   ]
  },
  {
   "cell_type": "code",
   "execution_count": 22,
   "metadata": {},
   "outputs": [
    {
     "data": {
      "text/plain": [
       "['four_letter_sequence',\n",
       " 'synthesis_id',\n",
       " 'n-1',\n",
       " 'n+1',\n",
       " 'pure_yield',\n",
       " 'full_length_product',\n",
       " 'other_impurity',\n",
       " 'synthesis_duration',\n",
       " 'postprocessing_duration']"
      ]
     },
     "execution_count": 22,
     "metadata": {},
     "output_type": "execute_result"
    }
   ],
   "source": [
    "lst_syn = list(syn)\n",
    "lst_syn"
   ]
  },
  {
   "cell_type": "code",
   "execution_count": 12,
   "metadata": {},
   "outputs": [
    {
     "data": {
      "text/plain": [
       "dict_keys(['four_letter_sequence', 'synthesis_id', 'n-1', 'n+1', 'pure_yield', 'full_length_product', 'other_impurity', 'synthesis_duration', 'postprocessing_duration'])"
      ]
     },
     "execution_count": 12,
     "metadata": {},
     "output_type": "execute_result"
    }
   ],
   "source": [
    "keys = dict(syn).keys()\n",
    "keys"
   ]
  },
  {
   "cell_type": "code",
   "execution_count": 13,
   "metadata": {},
   "outputs": [
    {
     "data": {
      "text/plain": [
       "{'four_letter_sequence': 'Seq Type',\n",
       " 'synthesis_id': 'Synthesis ID',\n",
       " 'n-1': 'N-1',\n",
       " 'n+1': 'N+1',\n",
       " 'pure_yield': 'Pure Yield',\n",
       " 'full_length_product': 'FL Product',\n",
       " 'other_impurity': 'Impurity',\n",
       " 'synthesis_duration': 'Synthesis Duration',\n",
       " 'postprocessing_duration': 'Postprocessing Duration'}"
      ]
     },
     "execution_count": 13,
     "metadata": {},
     "output_type": "execute_result"
    }
   ],
   "source": [
    "newColName = {a:b for a,b in zip(keys, ['Seq Type', 'Synthesis ID','N-1', 'N+1', 'Pure Yield', 'FL Product', 'Impurity', 'Synthesis Duration', 'Postprocessing Duration'])}\n",
    "newColName"
   ]
  },
  {
   "cell_type": "code",
   "execution_count": 14,
   "metadata": {},
   "outputs": [],
   "source": [
    "syn.rename(columns=newColName, inplace=True)\n",
    "syn = syn.set_index('Synthesis ID')"
   ]
  },
  {
   "cell_type": "code",
   "execution_count": 15,
   "metadata": {},
   "outputs": [
    {
     "data": {
      "text/html": [
       "<div>\n",
       "<style scoped>\n",
       "    .dataframe tbody tr th:only-of-type {\n",
       "        vertical-align: middle;\n",
       "    }\n",
       "\n",
       "    .dataframe tbody tr th {\n",
       "        vertical-align: top;\n",
       "    }\n",
       "\n",
       "    .dataframe thead th {\n",
       "        text-align: right;\n",
       "    }\n",
       "</style>\n",
       "<table border=\"1\" class=\"dataframe\">\n",
       "  <thead>\n",
       "    <tr style=\"text-align: right;\">\n",
       "      <th></th>\n",
       "      <th>Seq Type</th>\n",
       "      <th>N-1</th>\n",
       "      <th>N+1</th>\n",
       "      <th>Pure Yield</th>\n",
       "      <th>FL Product</th>\n",
       "      <th>Impurity</th>\n",
       "      <th>Synthesis Duration</th>\n",
       "      <th>Postprocessing Duration</th>\n",
       "    </tr>\n",
       "    <tr>\n",
       "      <th>Synthesis ID</th>\n",
       "      <th></th>\n",
       "      <th></th>\n",
       "      <th></th>\n",
       "      <th></th>\n",
       "      <th></th>\n",
       "      <th></th>\n",
       "      <th></th>\n",
       "      <th></th>\n",
       "    </tr>\n",
       "  </thead>\n",
       "  <tbody>\n",
       "    <tr>\n",
       "      <th>1</th>\n",
       "      <td>-Gms-Ums-Cms-Gro-Cro-Uro-Cro-Cro-Cro-Cro-Gro-G...</td>\n",
       "      <td>4.797640</td>\n",
       "      <td>6.381929</td>\n",
       "      <td>8.795529</td>\n",
       "      <td>74.553685</td>\n",
       "      <td>0.021143</td>\n",
       "      <td>55.654369</td>\n",
       "      <td>35.755761</td>\n",
       "    </tr>\n",
       "    <tr>\n",
       "      <th>1</th>\n",
       "      <td>-Ums-Cms-Ams-Gro-Gro-Cro-Cro-Gro-Cro-Aro-Gro-G...</td>\n",
       "      <td>8.056743</td>\n",
       "      <td>8.434807</td>\n",
       "      <td>6.089592</td>\n",
       "      <td>74.963525</td>\n",
       "      <td>0.053352</td>\n",
       "      <td>55.654369</td>\n",
       "      <td>35.755761</td>\n",
       "    </tr>\n",
       "    <tr>\n",
       "      <th>1</th>\n",
       "      <td>-Gms-Ums-Ams-Uro-Aro-Uro-Aro-Gro-Aro-Uro-Gro-A...</td>\n",
       "      <td>5.376105</td>\n",
       "      <td>10.042194</td>\n",
       "      <td>9.068502</td>\n",
       "      <td>73.169193</td>\n",
       "      <td>0.000000</td>\n",
       "      <td>55.654369</td>\n",
       "      <td>35.755761</td>\n",
       "    </tr>\n",
       "    <tr>\n",
       "      <th>1</th>\n",
       "      <td>-Cms-Ums-Cms-Cro-Cro-Uro-Cro-Cro-Cro-Aro-Gro-G...</td>\n",
       "      <td>1.932084</td>\n",
       "      <td>10.383295</td>\n",
       "      <td>4.258049</td>\n",
       "      <td>73.053785</td>\n",
       "      <td>0.000000</td>\n",
       "      <td>55.654369</td>\n",
       "      <td>35.755761</td>\n",
       "    </tr>\n",
       "    <tr>\n",
       "      <th>1</th>\n",
       "      <td>-Cms-Ums-Cms-Cro-Cro-Uro-Cro-Cro-Cro-Aro-Gro-G...</td>\n",
       "      <td>7.064074</td>\n",
       "      <td>4.899295</td>\n",
       "      <td>9.150096</td>\n",
       "      <td>77.128862</td>\n",
       "      <td>0.000000</td>\n",
       "      <td>55.654369</td>\n",
       "      <td>35.755761</td>\n",
       "    </tr>\n",
       "  </tbody>\n",
       "</table>\n",
       "</div>"
      ],
      "text/plain": [
       "                                                       Seq Type       N-1  \\\n",
       "Synthesis ID                                                                \n",
       "1             -Gms-Ums-Cms-Gro-Cro-Uro-Cro-Cro-Cro-Cro-Gro-G...  4.797640   \n",
       "1             -Ums-Cms-Ams-Gro-Gro-Cro-Cro-Gro-Cro-Aro-Gro-G...  8.056743   \n",
       "1             -Gms-Ums-Ams-Uro-Aro-Uro-Aro-Gro-Aro-Uro-Gro-A...  5.376105   \n",
       "1             -Cms-Ums-Cms-Cro-Cro-Uro-Cro-Cro-Cro-Aro-Gro-G...  1.932084   \n",
       "1             -Cms-Ums-Cms-Cro-Cro-Uro-Cro-Cro-Cro-Aro-Gro-G...  7.064074   \n",
       "\n",
       "                    N+1  Pure Yield  FL Product  Impurity  Synthesis Duration  \\\n",
       "Synthesis ID                                                                    \n",
       "1              6.381929    8.795529   74.553685  0.021143           55.654369   \n",
       "1              8.434807    6.089592   74.963525  0.053352           55.654369   \n",
       "1             10.042194    9.068502   73.169193  0.000000           55.654369   \n",
       "1             10.383295    4.258049   73.053785  0.000000           55.654369   \n",
       "1              4.899295    9.150096   77.128862  0.000000           55.654369   \n",
       "\n",
       "              Postprocessing Duration  \n",
       "Synthesis ID                           \n",
       "1                           35.755761  \n",
       "1                           35.755761  \n",
       "1                           35.755761  \n",
       "1                           35.755761  \n",
       "1                           35.755761  "
      ]
     },
     "execution_count": 15,
     "metadata": {},
     "output_type": "execute_result"
    }
   ],
   "source": [
    "# Problem 3 part a\n",
    "syn.head()"
   ]
  },
  {
   "cell_type": "code",
   "execution_count": 16,
   "metadata": {},
   "outputs": [
    {
     "data": {
      "text/html": [
       "<div>\n",
       "<style scoped>\n",
       "    .dataframe tbody tr th:only-of-type {\n",
       "        vertical-align: middle;\n",
       "    }\n",
       "\n",
       "    .dataframe tbody tr th {\n",
       "        vertical-align: top;\n",
       "    }\n",
       "\n",
       "    .dataframe thead th {\n",
       "        text-align: right;\n",
       "    }\n",
       "</style>\n",
       "<table border=\"1\" class=\"dataframe\">\n",
       "  <thead>\n",
       "    <tr style=\"text-align: right;\">\n",
       "      <th></th>\n",
       "      <th>N-1</th>\n",
       "      <th>N+1</th>\n",
       "      <th>Pure Yield</th>\n",
       "      <th>FL Product</th>\n",
       "      <th>Impurity</th>\n",
       "      <th>Synthesis Duration</th>\n",
       "      <th>Postprocessing Duration</th>\n",
       "    </tr>\n",
       "    <tr>\n",
       "      <th>Synthesis ID</th>\n",
       "      <th></th>\n",
       "      <th></th>\n",
       "      <th></th>\n",
       "      <th></th>\n",
       "      <th></th>\n",
       "      <th></th>\n",
       "      <th></th>\n",
       "    </tr>\n",
       "  </thead>\n",
       "  <tbody>\n",
       "    <tr>\n",
       "      <th>1</th>\n",
       "      <td>5.764613</td>\n",
       "      <td>8.168276</td>\n",
       "      <td>6.923333</td>\n",
       "      <td>74.821515</td>\n",
       "      <td>0.007963</td>\n",
       "      <td>55.654369</td>\n",
       "      <td>35.755761</td>\n",
       "    </tr>\n",
       "    <tr>\n",
       "      <th>2</th>\n",
       "      <td>5.151421</td>\n",
       "      <td>8.981819</td>\n",
       "      <td>7.336004</td>\n",
       "      <td>73.771156</td>\n",
       "      <td>0.010807</td>\n",
       "      <td>56.126625</td>\n",
       "      <td>74.939431</td>\n",
       "    </tr>\n",
       "    <tr>\n",
       "      <th>3</th>\n",
       "      <td>NaN</td>\n",
       "      <td>NaN</td>\n",
       "      <td>NaN</td>\n",
       "      <td>NaN</td>\n",
       "      <td>NaN</td>\n",
       "      <td>12.239413</td>\n",
       "      <td>0.013144</td>\n",
       "    </tr>\n",
       "    <tr>\n",
       "      <th>4</th>\n",
       "      <td>5.306428</td>\n",
       "      <td>8.043510</td>\n",
       "      <td>3.210474</td>\n",
       "      <td>69.758105</td>\n",
       "      <td>0.023082</td>\n",
       "      <td>61.546239</td>\n",
       "      <td>60.160847</td>\n",
       "    </tr>\n",
       "    <tr>\n",
       "      <th>5</th>\n",
       "      <td>5.191692</td>\n",
       "      <td>7.599241</td>\n",
       "      <td>7.055529</td>\n",
       "      <td>74.124559</td>\n",
       "      <td>0.318804</td>\n",
       "      <td>56.237046</td>\n",
       "      <td>108.421597</td>\n",
       "    </tr>\n",
       "    <tr>\n",
       "      <th>6</th>\n",
       "      <td>6.716026</td>\n",
       "      <td>8.666177</td>\n",
       "      <td>6.665401</td>\n",
       "      <td>73.920012</td>\n",
       "      <td>0.015765</td>\n",
       "      <td>60.621291</td>\n",
       "      <td>68.757632</td>\n",
       "    </tr>\n",
       "    <tr>\n",
       "      <th>7</th>\n",
       "      <td>2.712511</td>\n",
       "      <td>4.796797</td>\n",
       "      <td>12.337595</td>\n",
       "      <td>84.401051</td>\n",
       "      <td>0.012840</td>\n",
       "      <td>20.585041</td>\n",
       "      <td>81.761638</td>\n",
       "    </tr>\n",
       "    <tr>\n",
       "      <th>8</th>\n",
       "      <td>NaN</td>\n",
       "      <td>NaN</td>\n",
       "      <td>-0.103367</td>\n",
       "      <td>NaN</td>\n",
       "      <td>NaN</td>\n",
       "      <td>22.262647</td>\n",
       "      <td>61.099977</td>\n",
       "    </tr>\n",
       "    <tr>\n",
       "      <th>9</th>\n",
       "      <td>2.789221</td>\n",
       "      <td>5.396812</td>\n",
       "      <td>11.769690</td>\n",
       "      <td>83.333135</td>\n",
       "      <td>0.025132</td>\n",
       "      <td>24.138570</td>\n",
       "      <td>53.483469</td>\n",
       "    </tr>\n",
       "    <tr>\n",
       "      <th>10</th>\n",
       "      <td>5.388864</td>\n",
       "      <td>6.648028</td>\n",
       "      <td>7.008851</td>\n",
       "      <td>74.865223</td>\n",
       "      <td>0.009455</td>\n",
       "      <td>54.708102</td>\n",
       "      <td>54.518116</td>\n",
       "    </tr>\n",
       "  </tbody>\n",
       "</table>\n",
       "</div>"
      ],
      "text/plain": [
       "                   N-1       N+1  Pure Yield  FL Product  Impurity  \\\n",
       "Synthesis ID                                                         \n",
       "1             5.764613  8.168276    6.923333   74.821515  0.007963   \n",
       "2             5.151421  8.981819    7.336004   73.771156  0.010807   \n",
       "3                  NaN       NaN         NaN         NaN       NaN   \n",
       "4             5.306428  8.043510    3.210474   69.758105  0.023082   \n",
       "5             5.191692  7.599241    7.055529   74.124559  0.318804   \n",
       "6             6.716026  8.666177    6.665401   73.920012  0.015765   \n",
       "7             2.712511  4.796797   12.337595   84.401051  0.012840   \n",
       "8                  NaN       NaN   -0.103367         NaN       NaN   \n",
       "9             2.789221  5.396812   11.769690   83.333135  0.025132   \n",
       "10            5.388864  6.648028    7.008851   74.865223  0.009455   \n",
       "\n",
       "              Synthesis Duration  Postprocessing Duration  \n",
       "Synthesis ID                                               \n",
       "1                      55.654369                35.755761  \n",
       "2                      56.126625                74.939431  \n",
       "3                      12.239413                 0.013144  \n",
       "4                      61.546239                60.160847  \n",
       "5                      56.237046               108.421597  \n",
       "6                      60.621291                68.757632  \n",
       "7                      20.585041                81.761638  \n",
       "8                      22.262647                61.099977  \n",
       "9                      24.138570                53.483469  \n",
       "10                     54.708102                54.518116  "
      ]
     },
     "execution_count": 16,
     "metadata": {},
     "output_type": "execute_result"
    }
   ],
   "source": [
    "syn_mod = syn.groupby('Synthesis ID')[['N-1', 'N+1', 'Pure Yield', 'FL Product', 'Impurity', 'Synthesis Duration', 'Postprocessing Duration']].mean()\n",
    "syn_mod.columns=['N-1', 'N+1', 'Pure Yield', 'FL Product', 'Impurity', 'Synthesis Duration', 'Postprocessing Duration']\n",
    "syn_mod"
   ]
  },
  {
   "cell_type": "markdown",
   "metadata": {},
   "source": [
    "# Problem 3 part B\n",
    "Based on a cursory investigation of the given information.  The synthesis type seems to have a significant impact on the pure yield.  "
   ]
  },
  {
   "cell_type": "markdown",
   "metadata": {},
   "source": [
    "# Problem 3 part C\n",
    "It seems that there are some other factors that may affect pure yield.  These include the post processing and length of product."
   ]
  },
  {
   "cell_type": "code",
   "execution_count": 17,
   "metadata": {},
   "outputs": [],
   "source": [
    "syn['Seq Type'] = syn['Seq Type'].apply(oligoFunc)"
   ]
  },
  {
   "cell_type": "code",
   "execution_count": 18,
   "metadata": {},
   "outputs": [
    {
     "data": {
      "text/html": [
       "<div>\n",
       "<style scoped>\n",
       "    .dataframe tbody tr th:only-of-type {\n",
       "        vertical-align: middle;\n",
       "    }\n",
       "\n",
       "    .dataframe tbody tr th {\n",
       "        vertical-align: top;\n",
       "    }\n",
       "\n",
       "    .dataframe thead th {\n",
       "        text-align: right;\n",
       "    }\n",
       "</style>\n",
       "<table border=\"1\" class=\"dataframe\">\n",
       "  <thead>\n",
       "    <tr style=\"text-align: right;\">\n",
       "      <th></th>\n",
       "      <th>Seq Type</th>\n",
       "      <th>N-1</th>\n",
       "      <th>N+1</th>\n",
       "      <th>Pure Yield</th>\n",
       "      <th>FL Product</th>\n",
       "      <th>Impurity</th>\n",
       "      <th>Synthesis Duration</th>\n",
       "      <th>Postprocessing Duration</th>\n",
       "    </tr>\n",
       "    <tr>\n",
       "      <th>Synthesis ID</th>\n",
       "      <th></th>\n",
       "      <th></th>\n",
       "      <th></th>\n",
       "      <th></th>\n",
       "      <th></th>\n",
       "      <th></th>\n",
       "      <th></th>\n",
       "      <th></th>\n",
       "    </tr>\n",
       "  </thead>\n",
       "  <tbody>\n",
       "    <tr>\n",
       "      <th>1</th>\n",
       "      <td>(100, mod RNA)</td>\n",
       "      <td>4.797640</td>\n",
       "      <td>6.381929</td>\n",
       "      <td>8.795529</td>\n",
       "      <td>74.553685</td>\n",
       "      <td>0.021143</td>\n",
       "      <td>55.654369</td>\n",
       "      <td>35.755761</td>\n",
       "    </tr>\n",
       "    <tr>\n",
       "      <th>1</th>\n",
       "      <td>(100, mod RNA)</td>\n",
       "      <td>8.056743</td>\n",
       "      <td>8.434807</td>\n",
       "      <td>6.089592</td>\n",
       "      <td>74.963525</td>\n",
       "      <td>0.053352</td>\n",
       "      <td>55.654369</td>\n",
       "      <td>35.755761</td>\n",
       "    </tr>\n",
       "    <tr>\n",
       "      <th>1</th>\n",
       "      <td>(100, mod RNA)</td>\n",
       "      <td>5.376105</td>\n",
       "      <td>10.042194</td>\n",
       "      <td>9.068502</td>\n",
       "      <td>73.169193</td>\n",
       "      <td>0.000000</td>\n",
       "      <td>55.654369</td>\n",
       "      <td>35.755761</td>\n",
       "    </tr>\n",
       "    <tr>\n",
       "      <th>1</th>\n",
       "      <td>(100, mod RNA)</td>\n",
       "      <td>1.932084</td>\n",
       "      <td>10.383295</td>\n",
       "      <td>4.258049</td>\n",
       "      <td>73.053785</td>\n",
       "      <td>0.000000</td>\n",
       "      <td>55.654369</td>\n",
       "      <td>35.755761</td>\n",
       "    </tr>\n",
       "    <tr>\n",
       "      <th>1</th>\n",
       "      <td>(100, mod RNA)</td>\n",
       "      <td>7.064074</td>\n",
       "      <td>4.899295</td>\n",
       "      <td>9.150096</td>\n",
       "      <td>77.128862</td>\n",
       "      <td>0.000000</td>\n",
       "      <td>55.654369</td>\n",
       "      <td>35.755761</td>\n",
       "    </tr>\n",
       "  </tbody>\n",
       "</table>\n",
       "</div>"
      ],
      "text/plain": [
       "                    Seq Type       N-1        N+1  Pure Yield  FL Product  \\\n",
       "Synthesis ID                                                                \n",
       "1             (100, mod RNA)  4.797640   6.381929    8.795529   74.553685   \n",
       "1             (100, mod RNA)  8.056743   8.434807    6.089592   74.963525   \n",
       "1             (100, mod RNA)  5.376105  10.042194    9.068502   73.169193   \n",
       "1             (100, mod RNA)  1.932084  10.383295    4.258049   73.053785   \n",
       "1             (100, mod RNA)  7.064074   4.899295    9.150096   77.128862   \n",
       "\n",
       "              Impurity  Synthesis Duration  Postprocessing Duration  \n",
       "Synthesis ID                                                         \n",
       "1             0.021143           55.654369                35.755761  \n",
       "1             0.053352           55.654369                35.755761  \n",
       "1             0.000000           55.654369                35.755761  \n",
       "1             0.000000           55.654369                35.755761  \n",
       "1             0.000000           55.654369                35.755761  "
      ]
     },
     "execution_count": 18,
     "metadata": {},
     "output_type": "execute_result"
    }
   ],
   "source": [
    "syn.head()"
   ]
  },
  {
   "cell_type": "code",
   "execution_count": 19,
   "metadata": {},
   "outputs": [
    {
     "data": {
      "image/png": "[encoded data removed]",
      "text/plain": [
       "<Figure size 432x288 with 1 Axes>"
      ]
     },
     "metadata": {
      "needs_background": "light"
     },
     "output_type": "display_data"
    },
    {
     "data": {
      "image/png": "[encoded data removed]",
      "text/plain": [
       "<Figure size 432x288 with 1 Axes>"
      ]
     },
     "metadata": {
      "needs_background": "light"
     },
     "output_type": "display_data"
    },
    {
     "data": {
      "image/png": "[encoded data removed]",
      "text/plain": [
       "<Figure size 432x288 with 1 Axes>"
      ]
     },
     "metadata": {
      "needs_background": "light"
     },
     "output_type": "display_data"
    },
    {
     "data": {
      "image/png": "[encoded data removed]",
      "text/plain": [
       "<Figure size 432x288 with 1 Axes>"
      ]
     },
     "metadata": {
      "needs_background": "light"
     },
     "output_type": "display_data"
    }
   ],
   "source": [
    "syn_mod = syn.groupby('Seq Type')[['Pure Yield', 'FL Product', 'Impurity', 'Synthesis Duration']]\n",
    "# syn_mod = syn.groupby('Synthesis ID')[['Seq Type', 'Pure Yield', 'FL Product', 'Impurity', 'Synthesis Duration']].mean()\n",
    "\n",
    "syn_mod.columns=['Impurity', 'Pure Yield', 'FL Product', 'Synthesis Duration']\n",
    "ax = syn_mod.plo"
   ]
  },
  {
   "cell_type": "code",
   "execution_count": null,
   "metadata": {},
   "outputs": [],
   "source": []
  },
  {
   "cell_type": "code",
   "execution_count": null,
   "metadata": {},
   "outputs": [],
   "source": []
  }
 ],
 "metadata": {
  "kernelspec": {
   "display_name": "Python 3",
   "language": "python",
   "name": "python3"
  },
  "language_info": {
   "codemirror_mode": {
    "name": "ipython",
    "version": 3
   },
   "file_extension": ".py",
   "mimetype": "text/x-python",
   "name": "python",
   "nbconvert_exporter": "python",
   "pygments_lexer": "ipython3",
   "version": "3.7.0"
  }
 },
 "nbformat": 4,
 "nbformat_minor": 2
}
