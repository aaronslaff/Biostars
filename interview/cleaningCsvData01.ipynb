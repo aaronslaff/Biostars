{
 "cells": [
  {
   "cell_type": "code",
   "execution_count": 145,
   "metadata": {},
   "outputs": [
    {
     "data": {
      "text/html": [
       "<div>\n",
       "<style scoped>\n",
       "    .dataframe tbody tr th:only-of-type {\n",
       "        vertical-align: middle;\n",
       "    }\n",
       "\n",
       "    .dataframe tbody tr th {\n",
       "        vertical-align: top;\n",
       "    }\n",
       "\n",
       "    .dataframe thead th {\n",
       "        text-align: right;\n",
       "    }\n",
       "</style>\n",
       "<table border=\"1\" class=\"dataframe\">\n",
       "  <thead>\n",
       "    <tr style=\"text-align: right;\">\n",
       "      <th></th>\n",
       "      <th>four_letter_sequence</th>\n",
       "      <th>synthesis_id</th>\n",
       "      <th>n-1</th>\n",
       "      <th>n+1</th>\n",
       "      <th>pure_yield</th>\n",
       "      <th>full_length_product</th>\n",
       "      <th>other_impurity</th>\n",
       "      <th>synthesis_duration</th>\n",
       "      <th>postprocessing_duration</th>\n",
       "    </tr>\n",
       "  </thead>\n",
       "  <tbody>\n",
       "    <tr>\n",
       "      <th>0</th>\n",
       "      <td>-Gms-Ums-Cms-Gro-Cro-Uro-Cro-Cro-Cro-Cro-Gro-G...</td>\n",
       "      <td>1</td>\n",
       "      <td>4.797640</td>\n",
       "      <td>6.381929</td>\n",
       "      <td>8.795529</td>\n",
       "      <td>74.553685</td>\n",
       "      <td>0.021143</td>\n",
       "      <td>55.654369</td>\n",
       "      <td>35.755761</td>\n",
       "    </tr>\n",
       "    <tr>\n",
       "      <th>1</th>\n",
       "      <td>-Ums-Cms-Ams-Gro-Gro-Cro-Cro-Gro-Cro-Aro-Gro-G...</td>\n",
       "      <td>1</td>\n",
       "      <td>8.056743</td>\n",
       "      <td>8.434807</td>\n",
       "      <td>6.089592</td>\n",
       "      <td>74.963525</td>\n",
       "      <td>0.053352</td>\n",
       "      <td>55.654369</td>\n",
       "      <td>35.755761</td>\n",
       "    </tr>\n",
       "    <tr>\n",
       "      <th>2</th>\n",
       "      <td>-Gms-Ums-Ams-Uro-Aro-Uro-Aro-Gro-Aro-Uro-Gro-A...</td>\n",
       "      <td>1</td>\n",
       "      <td>5.376105</td>\n",
       "      <td>10.042194</td>\n",
       "      <td>9.068502</td>\n",
       "      <td>73.169193</td>\n",
       "      <td>0.000000</td>\n",
       "      <td>55.654369</td>\n",
       "      <td>35.755761</td>\n",
       "    </tr>\n",
       "    <tr>\n",
       "      <th>3</th>\n",
       "      <td>-Cms-Ums-Cms-Cro-Cro-Uro-Cro-Cro-Cro-Aro-Gro-G...</td>\n",
       "      <td>1</td>\n",
       "      <td>1.932084</td>\n",
       "      <td>10.383295</td>\n",
       "      <td>4.258049</td>\n",
       "      <td>73.053785</td>\n",
       "      <td>0.000000</td>\n",
       "      <td>55.654369</td>\n",
       "      <td>35.755761</td>\n",
       "    </tr>\n",
       "    <tr>\n",
       "      <th>4</th>\n",
       "      <td>-Cms-Ums-Cms-Cro-Cro-Uro-Cro-Cro-Cro-Aro-Gro-G...</td>\n",
       "      <td>1</td>\n",
       "      <td>7.064074</td>\n",
       "      <td>4.899295</td>\n",
       "      <td>9.150096</td>\n",
       "      <td>77.128862</td>\n",
       "      <td>0.000000</td>\n",
       "      <td>55.654369</td>\n",
       "      <td>35.755761</td>\n",
       "    </tr>\n",
       "  </tbody>\n",
       "</table>\n",
       "</div>"
      ],
      "text/plain": [
       "                                four_letter_sequence  synthesis_id       n-1  \\\n",
       "0  -Gms-Ums-Cms-Gro-Cro-Uro-Cro-Cro-Cro-Cro-Gro-G...             1  4.797640   \n",
       "1  -Ums-Cms-Ams-Gro-Gro-Cro-Cro-Gro-Cro-Aro-Gro-G...             1  8.056743   \n",
       "2  -Gms-Ums-Ams-Uro-Aro-Uro-Aro-Gro-Aro-Uro-Gro-A...             1  5.376105   \n",
       "3  -Cms-Ums-Cms-Cro-Cro-Uro-Cro-Cro-Cro-Aro-Gro-G...             1  1.932084   \n",
       "4  -Cms-Ums-Cms-Cro-Cro-Uro-Cro-Cro-Cro-Aro-Gro-G...             1  7.064074   \n",
       "\n",
       "         n+1  pure_yield  full_length_product  other_impurity  \\\n",
       "0   6.381929    8.795529            74.553685        0.021143   \n",
       "1   8.434807    6.089592            74.963525        0.053352   \n",
       "2  10.042194    9.068502            73.169193        0.000000   \n",
       "3  10.383295    4.258049            73.053785        0.000000   \n",
       "4   4.899295    9.150096            77.128862        0.000000   \n",
       "\n",
       "   synthesis_duration  postprocessing_duration  \n",
       "0           55.654369                35.755761  \n",
       "1           55.654369                35.755761  \n",
       "2           55.654369                35.755761  \n",
       "3           55.654369                35.755761  \n",
       "4           55.654369                35.755761  "
      ]
     },
     "execution_count": 145,
     "metadata": {},
     "output_type": "execute_result"
    }
   ],
   "source": [
    "import pandas as pd\n",
    "from pandas import DataFrame, read_csv\n",
    "import matplotlib.pyplot as plt\n",
    "\n",
    "oligoDf = pd.read_csv('/home/aaron/jupyter/Synthego/synthData.csv')\n",
    "oligoDf.head()"
   ]
  },
  {
   "cell_type": "code",
   "execution_count": 146,
   "metadata": {},
   "outputs": [],
   "source": [
    "def oligoFunc(stg):\n",
    "    oligoLen = sum(1 for x in stg if x.isupper())\n",
    "    oligoType = ''\n",
    "    if 'm' in stg and 'r' in stg:\n",
    "        oligoType = 'mod RNA'\n",
    "    elif 'd' in stg and 'r' in stg:\n",
    "        oligoType = 'chimera'\n",
    "    else:\n",
    "        oligoType = 'vanilla RNA'\n",
    "    return (oligoLen, oligoType)"
   ]
  },
  {
   "cell_type": "code",
   "execution_count": 147,
   "metadata": {},
   "outputs": [
    {
     "data": {
      "text/plain": [
       "['four_letter_sequence',\n",
       " 'synthesis_id',\n",
       " 'n-1',\n",
       " 'n+1',\n",
       " 'pure_yield',\n",
       " 'full_length_product',\n",
       " 'other_impurity',\n",
       " 'synthesis_duration',\n",
       " 'postprocessing_duration']"
      ]
     },
     "execution_count": 147,
     "metadata": {},
     "output_type": "execute_result"
    }
   ],
   "source": [
    "colRef = list(oligoDf)\n",
    "colRef"
   ]
  },
  {
   "cell_type": "code",
   "execution_count": 148,
   "metadata": {},
   "outputs": [
    {
     "data": {
      "text/plain": [
       "{'four_letter_sequence': 'Seq Type',\n",
       " 'synthesis_id': 'Synthesis ID',\n",
       " 'n-1': 'N-1',\n",
       " 'n+1': 'N+1',\n",
       " 'pure_yield': 'Pure Yield',\n",
       " 'full_length_product': 'FL Product',\n",
       " 'other_impurity': 'Impurity',\n",
       " 'synthesis_duration': 'Synthesis Duration',\n",
       " 'postprocessing_duration': 'Postprocessing Duration'}"
      ]
     },
     "execution_count": 148,
     "metadata": {},
     "output_type": "execute_result"
    }
   ],
   "source": [
    "newColRef= {a:b for a,b in zip(colRef, ['Seq Type', 'Synthesis ID','N-1', 'N+1', 'Pure Yield', 'FL Product', 'Impurity', 'Synthesis Duration', 'Postprocessing Duration'])}\n",
    "newColRef"
   ]
  },
  {
   "cell_type": "code",
   "execution_count": 149,
   "metadata": {},
   "outputs": [
    {
     "data": {
      "text/html": [
       "<div>\n",
       "<style scoped>\n",
       "    .dataframe tbody tr th:only-of-type {\n",
       "        vertical-align: middle;\n",
       "    }\n",
       "\n",
       "    .dataframe tbody tr th {\n",
       "        vertical-align: top;\n",
       "    }\n",
       "\n",
       "    .dataframe thead th {\n",
       "        text-align: right;\n",
       "    }\n",
       "</style>\n",
       "<table border=\"1\" class=\"dataframe\">\n",
       "  <thead>\n",
       "    <tr style=\"text-align: right;\">\n",
       "      <th></th>\n",
       "      <th>Seq Type</th>\n",
       "      <th>N-1</th>\n",
       "      <th>N+1</th>\n",
       "      <th>Pure Yield</th>\n",
       "      <th>FL Product</th>\n",
       "      <th>Impurity</th>\n",
       "      <th>Synthesis Duration</th>\n",
       "      <th>Postprocessing Duration</th>\n",
       "    </tr>\n",
       "    <tr>\n",
       "      <th>Synthesis ID</th>\n",
       "      <th></th>\n",
       "      <th></th>\n",
       "      <th></th>\n",
       "      <th></th>\n",
       "      <th></th>\n",
       "      <th></th>\n",
       "      <th></th>\n",
       "      <th></th>\n",
       "    </tr>\n",
       "  </thead>\n",
       "  <tbody>\n",
       "    <tr>\n",
       "      <th>1</th>\n",
       "      <td>-Gms-Ums-Cms-Gro-Cro-Uro-Cro-Cro-Cro-Cro-Gro-G...</td>\n",
       "      <td>4.797640</td>\n",
       "      <td>6.381929</td>\n",
       "      <td>8.795529</td>\n",
       "      <td>74.553685</td>\n",
       "      <td>0.021143</td>\n",
       "      <td>55.654369</td>\n",
       "      <td>35.755761</td>\n",
       "    </tr>\n",
       "    <tr>\n",
       "      <th>1</th>\n",
       "      <td>-Ums-Cms-Ams-Gro-Gro-Cro-Cro-Gro-Cro-Aro-Gro-G...</td>\n",
       "      <td>8.056743</td>\n",
       "      <td>8.434807</td>\n",
       "      <td>6.089592</td>\n",
       "      <td>74.963525</td>\n",
       "      <td>0.053352</td>\n",
       "      <td>55.654369</td>\n",
       "      <td>35.755761</td>\n",
       "    </tr>\n",
       "    <tr>\n",
       "      <th>1</th>\n",
       "      <td>-Gms-Ums-Ams-Uro-Aro-Uro-Aro-Gro-Aro-Uro-Gro-A...</td>\n",
       "      <td>5.376105</td>\n",
       "      <td>10.042194</td>\n",
       "      <td>9.068502</td>\n",
       "      <td>73.169193</td>\n",
       "      <td>0.000000</td>\n",
       "      <td>55.654369</td>\n",
       "      <td>35.755761</td>\n",
       "    </tr>\n",
       "    <tr>\n",
       "      <th>1</th>\n",
       "      <td>-Cms-Ums-Cms-Cro-Cro-Uro-Cro-Cro-Cro-Aro-Gro-G...</td>\n",
       "      <td>1.932084</td>\n",
       "      <td>10.383295</td>\n",
       "      <td>4.258049</td>\n",
       "      <td>73.053785</td>\n",
       "      <td>0.000000</td>\n",
       "      <td>55.654369</td>\n",
       "      <td>35.755761</td>\n",
       "    </tr>\n",
       "    <tr>\n",
       "      <th>1</th>\n",
       "      <td>-Cms-Ums-Cms-Cro-Cro-Uro-Cro-Cro-Cro-Aro-Gro-G...</td>\n",
       "      <td>7.064074</td>\n",
       "      <td>4.899295</td>\n",
       "      <td>9.150096</td>\n",
       "      <td>77.128862</td>\n",
       "      <td>0.000000</td>\n",
       "      <td>55.654369</td>\n",
       "      <td>35.755761</td>\n",
       "    </tr>\n",
       "  </tbody>\n",
       "</table>\n",
       "</div>"
      ],
      "text/plain": [
       "                                                       Seq Type       N-1  \\\n",
       "Synthesis ID                                                                \n",
       "1             -Gms-Ums-Cms-Gro-Cro-Uro-Cro-Cro-Cro-Cro-Gro-G...  4.797640   \n",
       "1             -Ums-Cms-Ams-Gro-Gro-Cro-Cro-Gro-Cro-Aro-Gro-G...  8.056743   \n",
       "1             -Gms-Ums-Ams-Uro-Aro-Uro-Aro-Gro-Aro-Uro-Gro-A...  5.376105   \n",
       "1             -Cms-Ums-Cms-Cro-Cro-Uro-Cro-Cro-Cro-Aro-Gro-G...  1.932084   \n",
       "1             -Cms-Ums-Cms-Cro-Cro-Uro-Cro-Cro-Cro-Aro-Gro-G...  7.064074   \n",
       "\n",
       "                    N+1  Pure Yield  FL Product  Impurity  Synthesis Duration  \\\n",
       "Synthesis ID                                                                    \n",
       "1              6.381929    8.795529   74.553685  0.021143           55.654369   \n",
       "1              8.434807    6.089592   74.963525  0.053352           55.654369   \n",
       "1             10.042194    9.068502   73.169193  0.000000           55.654369   \n",
       "1             10.383295    4.258049   73.053785  0.000000           55.654369   \n",
       "1              4.899295    9.150096   77.128862  0.000000           55.654369   \n",
       "\n",
       "              Postprocessing Duration  \n",
       "Synthesis ID                           \n",
       "1                           35.755761  \n",
       "1                           35.755761  \n",
       "1                           35.755761  \n",
       "1                           35.755761  \n",
       "1                           35.755761  "
      ]
     },
     "execution_count": 149,
     "metadata": {},
     "output_type": "execute_result"
    }
   ],
   "source": [
    "# Change the column titles\n",
    "oligoDf.rename(columns=newColRef, inplace=True)\n",
    "oligoDf = oligoDf.set_index('Synthesis ID')\n",
    "oligoDf.head()"
   ]
  },
  {
   "cell_type": "code",
   "execution_count": 150,
   "metadata": {},
   "outputs": [
    {
     "data": {
      "text/html": [
       "<div>\n",
       "<style scoped>\n",
       "    .dataframe tbody tr th:only-of-type {\n",
       "        vertical-align: middle;\n",
       "    }\n",
       "\n",
       "    .dataframe tbody tr th {\n",
       "        vertical-align: top;\n",
       "    }\n",
       "\n",
       "    .dataframe thead th {\n",
       "        text-align: right;\n",
       "    }\n",
       "</style>\n",
       "<table border=\"1\" class=\"dataframe\">\n",
       "  <thead>\n",
       "    <tr style=\"text-align: right;\">\n",
       "      <th></th>\n",
       "      <th>Seq Type</th>\n",
       "      <th>N-1</th>\n",
       "      <th>N+1</th>\n",
       "      <th>Pure Yield</th>\n",
       "      <th>FL Product</th>\n",
       "      <th>Impurity</th>\n",
       "      <th>Synthesis Duration</th>\n",
       "      <th>Postprocessing Duration</th>\n",
       "    </tr>\n",
       "    <tr>\n",
       "      <th>Synthesis ID</th>\n",
       "      <th></th>\n",
       "      <th></th>\n",
       "      <th></th>\n",
       "      <th></th>\n",
       "      <th></th>\n",
       "      <th></th>\n",
       "      <th></th>\n",
       "      <th></th>\n",
       "    </tr>\n",
       "  </thead>\n",
       "  <tbody>\n",
       "    <tr>\n",
       "      <th>1</th>\n",
       "      <td>(100, mod RNA)</td>\n",
       "      <td>4.797640</td>\n",
       "      <td>6.381929</td>\n",
       "      <td>8.795529</td>\n",
       "      <td>74.553685</td>\n",
       "      <td>0.021143</td>\n",
       "      <td>55.654369</td>\n",
       "      <td>35.755761</td>\n",
       "    </tr>\n",
       "    <tr>\n",
       "      <th>1</th>\n",
       "      <td>(100, mod RNA)</td>\n",
       "      <td>8.056743</td>\n",
       "      <td>8.434807</td>\n",
       "      <td>6.089592</td>\n",
       "      <td>74.963525</td>\n",
       "      <td>0.053352</td>\n",
       "      <td>55.654369</td>\n",
       "      <td>35.755761</td>\n",
       "    </tr>\n",
       "    <tr>\n",
       "      <th>1</th>\n",
       "      <td>(100, mod RNA)</td>\n",
       "      <td>5.376105</td>\n",
       "      <td>10.042194</td>\n",
       "      <td>9.068502</td>\n",
       "      <td>73.169193</td>\n",
       "      <td>0.000000</td>\n",
       "      <td>55.654369</td>\n",
       "      <td>35.755761</td>\n",
       "    </tr>\n",
       "    <tr>\n",
       "      <th>1</th>\n",
       "      <td>(100, mod RNA)</td>\n",
       "      <td>1.932084</td>\n",
       "      <td>10.383295</td>\n",
       "      <td>4.258049</td>\n",
       "      <td>73.053785</td>\n",
       "      <td>0.000000</td>\n",
       "      <td>55.654369</td>\n",
       "      <td>35.755761</td>\n",
       "    </tr>\n",
       "    <tr>\n",
       "      <th>1</th>\n",
       "      <td>(100, mod RNA)</td>\n",
       "      <td>7.064074</td>\n",
       "      <td>4.899295</td>\n",
       "      <td>9.150096</td>\n",
       "      <td>77.128862</td>\n",
       "      <td>0.000000</td>\n",
       "      <td>55.654369</td>\n",
       "      <td>35.755761</td>\n",
       "    </tr>\n",
       "  </tbody>\n",
       "</table>\n",
       "</div>"
      ],
      "text/plain": [
       "                    Seq Type       N-1        N+1  Pure Yield  FL Product  \\\n",
       "Synthesis ID                                                                \n",
       "1             (100, mod RNA)  4.797640   6.381929    8.795529   74.553685   \n",
       "1             (100, mod RNA)  8.056743   8.434807    6.089592   74.963525   \n",
       "1             (100, mod RNA)  5.376105  10.042194    9.068502   73.169193   \n",
       "1             (100, mod RNA)  1.932084  10.383295    4.258049   73.053785   \n",
       "1             (100, mod RNA)  7.064074   4.899295    9.150096   77.128862   \n",
       "\n",
       "              Impurity  Synthesis Duration  Postprocessing Duration  \n",
       "Synthesis ID                                                         \n",
       "1             0.021143           55.654369                35.755761  \n",
       "1             0.053352           55.654369                35.755761  \n",
       "1             0.000000           55.654369                35.755761  \n",
       "1             0.000000           55.654369                35.755761  \n",
       "1             0.000000           55.654369                35.755761  "
      ]
     },
     "execution_count": 150,
     "metadata": {},
     "output_type": "execute_result"
    }
   ],
   "source": [
    "# Apply oligoFunc to the Seq Type info\n",
    "oligoDf['Seq Type'] = oligoDf['Seq Type'].apply(oligoFunc)\n",
    "oligoDf.head()"
   ]
  },
  {
   "cell_type": "code",
   "execution_count": 151,
   "metadata": {},
   "outputs": [
    {
     "data": {
      "text/plain": [
       "<matplotlib.axes._subplots.AxesSubplot at 0x7f3a413bd6d8>"
      ]
     },
     "execution_count": 151,
     "metadata": {},
     "output_type": "execute_result"
    },
    {
     "data": {
      "image/png": "[encoded data removed]",
      "text/plain": [
       "<Figure size 432x288 with 1 Axes>"
      ]
     },
     "metadata": {
      "needs_background": "light"
     },
     "output_type": "display_data"
    }
   ],
   "source": [
    "oligoDf['Pure Yield'].plot()"
   ]
  },
  {
   "cell_type": "code",
   "execution_count": 176,
   "metadata": {},
   "outputs": [
    {
     "name": "stdout",
     "output_type": "stream",
     "text": [
      "\n",
      "Highest Pure Yield: 15.046220954862301\n",
      "Sythesis ID: 9\n",
      "Oligo Length: 36\n",
      "Oligo Type: chimera\n",
      "\n"
     ]
    }
   ],
   "source": [
    "MaxPY = oligoDf['Pure Yield'].max()\n",
    "MaxID = dict(oligoDf['Seq Type'][oligoDf['Pure Yield'] == oligoDf['Pure Yield'].max()])\n",
    "MaxTxt = '''\n",
    "Highest Pure Yield: {}\n",
    "Sythesis ID: {}\n",
    "Oligo Length: {}\n",
    "Oligo Type: {}\n",
    "'''.format(str(MaxPY), list(MaxID.keys())[0], list(MaxID.values())[0][0], list(MaxID.values())[0][1])\n",
    "\n",
    "print(MaxTxt)"
   ]
  },
  {
   "cell_type": "code",
   "execution_count": 205,
   "metadata": {},
   "outputs": [
    {
     "data": {
      "text/plain": [
       "<matplotlib.axes._subplots.AxesSubplot at 0x7f3a44a27da0>"
      ]
     },
     "execution_count": 205,
     "metadata": {},
     "output_type": "execute_result"
    },
    {
     "data": {
      "image/png": "[encoded data removed]",
      "text/plain": [
       "<Figure size 432x288 with 1 Axes>"
      ]
     },
     "metadata": {
      "needs_background": "light"
     },
     "output_type": "display_data"
    }
   ],
   "source": [
    "oligoDf.boxplot('Pure Yield', 'Synthesis ID')"
   ]
  },
  {
   "cell_type": "code",
   "execution_count": null,
   "metadata": {},
   "outputs": [],
   "source": []
  },
  {
   "cell_type": "code",
   "execution_count": null,
   "metadata": {},
   "outputs": [],
   "source": []
  },
  {
   "cell_type": "code",
   "execution_count": null,
   "metadata": {},
   "outputs": [],
   "source": []
  },
  {
   "cell_type": "code",
   "execution_count": null,
   "metadata": {},
   "outputs": [],
   "source": []
  },
  {
   "cell_type": "code",
   "execution_count": null,
   "metadata": {},
   "outputs": [],
   "source": []
  }
 ],
 "metadata": {
  "kernelspec": {
   "display_name": "Python 3",
   "language": "python",
   "name": "python3"
  },
  "language_info": {
   "codemirror_mode": {
    "name": "ipython",
    "version": 3
   },
   "file_extension": ".py",
   "mimetype": "text/x-python",
   "name": "python",
   "nbconvert_exporter": "python",
   "pygments_lexer": "ipython3",
   "version": "3.7.0"
  }
 },
 "nbformat": 4,
 "nbformat_minor": 2
}
